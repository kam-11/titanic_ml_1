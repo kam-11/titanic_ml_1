{
  "cells": [
    {
      "cell_type": "markdown",
      "metadata": {
        "id": "eYB-zyAh_Jdg"
      },
      "source": [
        "# Titanic Classification using Naive Bayes and K-Nearest Neighbors (From Scratch)\n",
        "Implemented in Python using only Numpy, Pandas, and Matplotlib."
      ]
    },
    {
      "cell_type": "code",
      "execution_count": 3,
      "metadata": {
        "colab": {
          "base_uri": "https://localhost:8080/",
          "height": 73
        },
        "id": "7ww2JDAh_NyK",
        "outputId": "aa25726d-27f5-40df-b080-566c892cd147"
      },
      "outputs": [
        {
          "output_type": "display_data",
          "data": {
            "text/plain": [
              "<IPython.core.display.HTML object>"
            ],
            "text/html": [
              "\n",
              "     <input type=\"file\" id=\"files-9e76b057-53f0-4676-b267-b0f93df5de22\" name=\"files[]\" multiple disabled\n",
              "        style=\"border:none\" />\n",
              "     <output id=\"result-9e76b057-53f0-4676-b267-b0f93df5de22\">\n",
              "      Upload widget is only available when the cell has been executed in the\n",
              "      current browser session. Please rerun this cell to enable.\n",
              "      </output>\n",
              "      <script>// Copyright 2017 Google LLC\n",
              "//\n",
              "// Licensed under the Apache License, Version 2.0 (the \"License\");\n",
              "// you may not use this file except in compliance with the License.\n",
              "// You may obtain a copy of the License at\n",
              "//\n",
              "//      http://www.apache.org/licenses/LICENSE-2.0\n",
              "//\n",
              "// Unless required by applicable law or agreed to in writing, software\n",
              "// distributed under the License is distributed on an \"AS IS\" BASIS,\n",
              "// WITHOUT WARRANTIES OR CONDITIONS OF ANY KIND, either express or implied.\n",
              "// See the License for the specific language governing permissions and\n",
              "// limitations under the License.\n",
              "\n",
              "/**\n",
              " * @fileoverview Helpers for google.colab Python module.\n",
              " */\n",
              "(function(scope) {\n",
              "function span(text, styleAttributes = {}) {\n",
              "  const element = document.createElement('span');\n",
              "  element.textContent = text;\n",
              "  for (const key of Object.keys(styleAttributes)) {\n",
              "    element.style[key] = styleAttributes[key];\n",
              "  }\n",
              "  return element;\n",
              "}\n",
              "\n",
              "// Max number of bytes which will be uploaded at a time.\n",
              "const MAX_PAYLOAD_SIZE = 100 * 1024;\n",
              "\n",
              "function _uploadFiles(inputId, outputId) {\n",
              "  const steps = uploadFilesStep(inputId, outputId);\n",
              "  const outputElement = document.getElementById(outputId);\n",
              "  // Cache steps on the outputElement to make it available for the next call\n",
              "  // to uploadFilesContinue from Python.\n",
              "  outputElement.steps = steps;\n",
              "\n",
              "  return _uploadFilesContinue(outputId);\n",
              "}\n",
              "\n",
              "// This is roughly an async generator (not supported in the browser yet),\n",
              "// where there are multiple asynchronous steps and the Python side is going\n",
              "// to poll for completion of each step.\n",
              "// This uses a Promise to block the python side on completion of each step,\n",
              "// then passes the result of the previous step as the input to the next step.\n",
              "function _uploadFilesContinue(outputId) {\n",
              "  const outputElement = document.getElementById(outputId);\n",
              "  const steps = outputElement.steps;\n",
              "\n",
              "  const next = steps.next(outputElement.lastPromiseValue);\n",
              "  return Promise.resolve(next.value.promise).then((value) => {\n",
              "    // Cache the last promise value to make it available to the next\n",
              "    // step of the generator.\n",
              "    outputElement.lastPromiseValue = value;\n",
              "    return next.value.response;\n",
              "  });\n",
              "}\n",
              "\n",
              "/**\n",
              " * Generator function which is called between each async step of the upload\n",
              " * process.\n",
              " * @param {string} inputId Element ID of the input file picker element.\n",
              " * @param {string} outputId Element ID of the output display.\n",
              " * @return {!Iterable<!Object>} Iterable of next steps.\n",
              " */\n",
              "function* uploadFilesStep(inputId, outputId) {\n",
              "  const inputElement = document.getElementById(inputId);\n",
              "  inputElement.disabled = false;\n",
              "\n",
              "  const outputElement = document.getElementById(outputId);\n",
              "  outputElement.innerHTML = '';\n",
              "\n",
              "  const pickedPromise = new Promise((resolve) => {\n",
              "    inputElement.addEventListener('change', (e) => {\n",
              "      resolve(e.target.files);\n",
              "    });\n",
              "  });\n",
              "\n",
              "  const cancel = document.createElement('button');\n",
              "  inputElement.parentElement.appendChild(cancel);\n",
              "  cancel.textContent = 'Cancel upload';\n",
              "  const cancelPromise = new Promise((resolve) => {\n",
              "    cancel.onclick = () => {\n",
              "      resolve(null);\n",
              "    };\n",
              "  });\n",
              "\n",
              "  // Wait for the user to pick the files.\n",
              "  const files = yield {\n",
              "    promise: Promise.race([pickedPromise, cancelPromise]),\n",
              "    response: {\n",
              "      action: 'starting',\n",
              "    }\n",
              "  };\n",
              "\n",
              "  cancel.remove();\n",
              "\n",
              "  // Disable the input element since further picks are not allowed.\n",
              "  inputElement.disabled = true;\n",
              "\n",
              "  if (!files) {\n",
              "    return {\n",
              "      response: {\n",
              "        action: 'complete',\n",
              "      }\n",
              "    };\n",
              "  }\n",
              "\n",
              "  for (const file of files) {\n",
              "    const li = document.createElement('li');\n",
              "    li.append(span(file.name, {fontWeight: 'bold'}));\n",
              "    li.append(span(\n",
              "        `(${file.type || 'n/a'}) - ${file.size} bytes, ` +\n",
              "        `last modified: ${\n",
              "            file.lastModifiedDate ? file.lastModifiedDate.toLocaleDateString() :\n",
              "                                    'n/a'} - `));\n",
              "    const percent = span('0% done');\n",
              "    li.appendChild(percent);\n",
              "\n",
              "    outputElement.appendChild(li);\n",
              "\n",
              "    const fileDataPromise = new Promise((resolve) => {\n",
              "      const reader = new FileReader();\n",
              "      reader.onload = (e) => {\n",
              "        resolve(e.target.result);\n",
              "      };\n",
              "      reader.readAsArrayBuffer(file);\n",
              "    });\n",
              "    // Wait for the data to be ready.\n",
              "    let fileData = yield {\n",
              "      promise: fileDataPromise,\n",
              "      response: {\n",
              "        action: 'continue',\n",
              "      }\n",
              "    };\n",
              "\n",
              "    // Use a chunked sending to avoid message size limits. See b/62115660.\n",
              "    let position = 0;\n",
              "    do {\n",
              "      const length = Math.min(fileData.byteLength - position, MAX_PAYLOAD_SIZE);\n",
              "      const chunk = new Uint8Array(fileData, position, length);\n",
              "      position += length;\n",
              "\n",
              "      const base64 = btoa(String.fromCharCode.apply(null, chunk));\n",
              "      yield {\n",
              "        response: {\n",
              "          action: 'append',\n",
              "          file: file.name,\n",
              "          data: base64,\n",
              "        },\n",
              "      };\n",
              "\n",
              "      let percentDone = fileData.byteLength === 0 ?\n",
              "          100 :\n",
              "          Math.round((position / fileData.byteLength) * 100);\n",
              "      percent.textContent = `${percentDone}% done`;\n",
              "\n",
              "    } while (position < fileData.byteLength);\n",
              "  }\n",
              "\n",
              "  // All done.\n",
              "  yield {\n",
              "    response: {\n",
              "      action: 'complete',\n",
              "    }\n",
              "  };\n",
              "}\n",
              "\n",
              "scope.google = scope.google || {};\n",
              "scope.google.colab = scope.google.colab || {};\n",
              "scope.google.colab._files = {\n",
              "  _uploadFiles,\n",
              "  _uploadFilesContinue,\n",
              "};\n",
              "})(self);\n",
              "</script> "
            ]
          },
          "metadata": {}
        },
        {
          "output_type": "stream",
          "name": "stdout",
          "text": [
            "Saving train.csv to train.csv\n"
          ]
        }
      ],
      "source": [
        "from google.colab import files\n",
        "uploded=files.upload()\n",
        "\n",
        "import pandas as pd\n",
        "import numpy as np\n",
        "import matplotlib.pyplot as plt\n",
        "\n",
        "# Load dataset\n",
        "df = pd.read_csv(\"train.csv\")  # Upload the Titanic train.csv file manually"
      ]
    },
    {
      "cell_type": "code",
      "execution_count": null,
      "metadata": {
        "id": "Mi-h9yaJjJlo"
      },
      "outputs": [],
      "source": []
    },
    {
      "cell_type": "markdown",
      "metadata": {
        "id": "fGAVK6o8_VKO"
      },
      "source": [
        "## 🔧 Data Preprocessing\n",
        "We normalize continuous values and convert categorical variables to numeric.\n",
        "Missing values are dropped."
      ]
    },
    {
      "cell_type": "code",
      "execution_count": 7,
      "metadata": {
        "id": "amykc-YB_acL"
      },
      "outputs": [],
      "source": [
        "def preprocess_data(df):\n",
        "      df = df[['Pclass', 'Sex', 'Age', 'SibSp', 'Parch', 'Fare', 'Embarked', 'Survived']].copy()\n",
        "      df.dropna(inplace=True)\n",
        "      df['Sex'] = df['Sex'].map({'male': 0, 'female': 1})\n",
        "      df['Embarked'] = df['Embarked'].map({'S': 0, 'C': 1, 'Q': 2})\n",
        "      df[['Age', 'Fare']] = (df[['Age', 'Fare']] - df[['Age', 'Fare']].mean()) / df[['Age', 'Fare']].std()\n",
        "\n",
        "      x = df.drop('Survived', axis=1).values\n",
        "      y = df['Survived'].values\n",
        "      split_idx = int(0.8 * len(x))\n",
        "      return x[:split_idx], x[split_idx:], y[:split_idx], y[split_idx:], df\n",
        "\n",
        "x_train, x_test, y_train, y_test, preprocessed_df = preprocess_data(df)"
      ]
    },
    {
      "cell_type": "markdown",
      "metadata": {
        "id": "zV-MA8iC_hJD"
      },
      "source": [
        "## 📊 Data Visualization\n",
        "Survival rate by gender and passenger class."
      ]
    },
    {
      "cell_type": "code",
      "execution_count": 11,
      "metadata": {
        "id": "yKIJIseg_l2n",
        "colab": {
          "base_uri": "https://localhost:8080/",
          "height": 507
        },
        "outputId": "dd3283d4-c318-4892-aca0-e84316d92e99"
      },
      "outputs": [
        {
          "output_type": "display_data",
          "data": {
            "text/plain": [
              "<Figure size 1200x500 with 2 Axes>"
            ],
            "image/png": "[encoded data removed]"
          },
          "metadata": {}
        }
      ],
      "source": [
        "def visualize_data(df):\n",
        "      fig, axes = plt.subplots(1, 2, figsize=(12, 5))\n",
        "      df['Sex_encoded'] = df['Sex']\n",
        "\n",
        "      df['Survived'].groupby(df['Sex_encoded']).mean().plot(kind='bar', ax=axes[0])\n",
        "      axes[0].set_title(\"Survival Rate by Gender\")\n",
        "      axes[0].set_xticklabels(['Male', 'Female'], rotation=0)\n",
        "      axes[0].set_ylabel(\"Survival Rate\")\n",
        "\n",
        "      df['Survived'].groupby(df['Pclass']).mean().plot(kind='bar', ax=axes[1])\n",
        "      axes[1].set_title(\"Survival Rate by Class\")\n",
        "      axes[1].set_xlabel(\"Pclass\")\n",
        "      axes[1].set_ylabel(\"Survival Rate\")\n",
        "\n",
        "      plt.tight_layout()\n",
        "      plt.show()\n",
        "\n",
        "visualize_data(preprocessed_df)"
      ]
    },
    {
      "cell_type": "markdown",
      "metadata": {
        "id": "a6k6Ja-R_s2h"
      },
      "source": [
        "## 📘 Naive Bayes Classifier (From Scratch)\n",
        "Probabilistic classification using Gaussian likelihoods."
      ]
    },
    {
      "cell_type": "code",
      "execution_count": 8,
      "metadata": {
        "id": "PVkW7uPX_yF3",
        "colab": {
          "base_uri": "https://localhost:8080/"
        },
        "outputId": "590bacd3-45f0-404b-dc5d-abe98fb53bff"
      },
      "outputs": [
        {
          "output_type": "stream",
          "name": "stdout",
          "text": [
            "Naive Bayes Accuracy: 81.12%\n"
          ]
        }
      ],
      "source": [
        "def naive_bayes_classifier(x_train, y_train, x_test):\n",
        "    classes = np.unique(y_train)\n",
        "    priors = {c: np.mean(y_train == c) for c in classes}\n",
        "    means = {c: x_train[y_train == c].mean(axis=0) for c in classes}\n",
        "    variances = {c: x_train[y_train == c].var(axis=0) + 1e-6 for c in classes}\n",
        "\n",
        "    def gaussian_prob(x, mean, var):\n",
        "        exponent = np.exp(-((x - mean) ** 2) / (2 * var))\n",
        "        return (1 / np.sqrt(2 * np.pi * var)) * exponent\n",
        "\n",
        "    y_pred = []\n",
        "    for x in x_test:\n",
        "        posteriors = {}\n",
        "        for c in classes:\n",
        "            prior = np.log(priors[c])\n",
        "            conditional = np.sum(np.log(gaussian_prob(x, means[c], variances[c])))\n",
        "            posteriors[c] = prior + conditional\n",
        "        y_pred.append(max(posteriors, key=posteriors.get))\n",
        "    return np.array(y_pred)\n",
        "\n",
        "nb_predictions = naive_bayes_classifier(x_train, y_train, x_test)\n",
        "nb_accuracy = np.mean(nb_predictions == y_test)\n",
        "print(f\"Naive Bayes Accuracy: {nb_accuracy * 100:.2f}%\")"
      ]
    },
    {
      "cell_type": "markdown",
      "metadata": {
        "id": "tvRkFtLV_2jN"
      },
      "source": [
        "## 📘 K-Nearest Neighbors Classifier (From Scratch)\n",
        "Classifies based on majority vote of the k-nearest points."
      ]
    },
    {
      "cell_type": "code",
      "execution_count": 9,
      "metadata": {
        "id": "QILJ1cvc_9E4",
        "colab": {
          "base_uri": "https://localhost:8080/"
        },
        "outputId": "985477d7-1c64-4fbe-f2ca-a36098f9950d"
      },
      "outputs": [
        {
          "output_type": "stream",
          "name": "stdout",
          "text": [
            "KNN Accuracy (k=5): 79.72%\n"
          ]
        }
      ],
      "source": [
        "def knn_classifier(x_train, y_train, x_test, k=5):\n",
        "    def euclidean_distance(a, b):\n",
        "        return np.sqrt(np.sum((a - b) ** 2))\n",
        "\n",
        "    y_pred = []\n",
        "    for test_point in x_test:\n",
        "        distances = [euclidean_distance(test_point, x) for x in x_train]\n",
        "        k_indices = np.argsort(distances)[:k]\n",
        "        k_labels = y_train[k_indices]\n",
        "        majority = np.bincount(k_labels).argmax()\n",
        "        y_pred.append(majority)\n",
        "    return np.array(y_pred)\n",
        "\n",
        "knn_predictions = knn_classifier(x_train, y_train, x_test, k=5)\n",
        "knn_accuracy = np.mean(knn_predictions == y_test)\n",
        "print(f\"KNN Accuracy (k=5): {knn_accuracy * 100:.2f}%\")"
      ]
    }
  ],
  "metadata": {
    "colab": {
      "provenance": []
    },
    "kernelspec": {
      "display_name": "Python 3",
      "name": "python3"
    },
    "language_info": {
      "name": "python"
    }
  },
  "nbformat": 4,
  "nbformat_minor": 0
}